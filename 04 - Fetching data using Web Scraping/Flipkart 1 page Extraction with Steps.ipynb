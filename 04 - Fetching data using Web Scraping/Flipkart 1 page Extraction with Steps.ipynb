{
 "cells": [
  {
   "cell_type": "code",
   "execution_count": 125,
   "id": "94c93831-b535-4556-93ec-61ec67feb56a",
   "metadata": {},
   "outputs": [],
   "source": [
    "import pandas as pd  \n",
    "import requests  \n",
    "from bs4 import BeautifulSoup\n",
    "import numpy as np"
   ]
  },
  {
   "cell_type": "code",
   "execution_count": 126,
   "id": "fa00ad32-7482-44d7-99b7-1162ec6ff296",
   "metadata": {},
   "outputs": [],
   "source": [
    "url = \"https://www.flipkart.com/search?q=mobiles&as=on&as-show=on&otracker=AS_Query_TrendingAutoSuggest_1_0_na_na_na&otracker1=AS_Query_TrendingAutoSuggest_1_0_na_na_na&as-pos=1&as-type=TRENDING&suggestionId=mobiles&requestId=b87edce2-2302-4ed2-87db-5e11533453f2&p%5B%5D=facets.brand%255B%255D%3DSAMSUNG&page=1\""
   ]
  },
  {
   "cell_type": "code",
   "execution_count": 127,
   "id": "c67edcd1-e34b-431c-b730-aa1ae20ef44d",
   "metadata": {},
   "outputs": [],
   "source": [
    "headers = ({'User-Agent':'Mozilla/5.0 (Windows NT 10.0; Win64; x64) AppleWebKit/537.36 (KHTML, like Gecko) Chrome/131.0.0.0 Safari/537.36'})"
   ]
  },
  {
   "cell_type": "code",
   "execution_count": 128,
   "id": "d517c403-9ecb-4684-a49d-ade452f463db",
   "metadata": {},
   "outputs": [],
   "source": [
    "webpage = requests.get(url,headers)\n",
    "\n",
    "#webpage = requests.get(url)"
   ]
  },
  {
   "cell_type": "code",
   "execution_count": 129,
   "id": "de65b2eb-70c5-4322-ac1a-25e5477fe851",
   "metadata": {},
   "outputs": [
    {
     "data": {
      "text/plain": [
       "200"
      ]
     },
     "execution_count": 129,
     "metadata": {},
     "output_type": "execute_result"
    }
   ],
   "source": [
    "webpage.status_code"
   ]
  },
  {
   "cell_type": "code",
   "execution_count": 130,
   "id": "3ce5ffea-73a8-49ed-8d0e-80c922c5a700",
   "metadata": {},
   "outputs": [],
   "source": [
    "soup = BeautifulSoup(webpage.text, 'html')"
   ]
  },
  {
   "cell_type": "code",
   "execution_count": 131,
   "id": "ee59bd23-22c8-471d-aebe-9c9ba51fabbc",
   "metadata": {},
   "outputs": [
    {
     "data": {
      "text/plain": [
       "['SAMSUNG Galaxy S23 5G (Green, 128 GB)',\n",
       " 'SAMSUNG Galaxy F05 (Twilight Blue, 64 GB)',\n",
       " 'SAMSUNG Galaxy S23 5G (Cream, 256 GB)',\n",
       " 'SAMSUNG Galaxy A14 5G (Dark Red, 128 GB)',\n",
       " 'SAMSUNG Galaxy S23 5G (Cream, 128 GB)',\n",
       " 'SAMSUNG Galaxy S23 5G (Lavender, 256 GB)',\n",
       " 'SAMSUNG Galaxy S23 5G (Green, 256 GB)',\n",
       " 'SAMSUNG Galaxy S23 FE (Graphite, 128 GB)',\n",
       " 'SAMSUNG Galaxy S23 5G (Phantom Black, 128 GB)',\n",
       " 'SAMSUNG Galaxy M35 5G (Moonlight Blue, 128 GB)',\n",
       " 'SAMSUNG Galaxy M35 5G (Thunder Grey, 128 GB)',\n",
       " 'SAMSUNG Galaxy M35 5G (DayBreak Blue, 128 GB)',\n",
       " 'SAMSUNG Galaxy A35 5G (Awesome Iceblue, 128 GB)',\n",
       " 'SAMSUNG Galaxy M35 5G (Thunder Grey, 128 GB)',\n",
       " 'SAMSUNG Metro 313',\n",
       " 'SAMSUNG Galaxy M35 5G (DayBreak Blue, 128 GB)',\n",
       " 'SAMSUNG Galaxy M35 5G (Moonlight Blue, 128 GB)',\n",
       " 'SAMSUNG M05 (Mint Green, 64 GB)',\n",
       " 'SAMSUNG Galaxy S24+ 5G (Cobalt Violet, 256 GB)',\n",
       " 'SAMSUNG Galaxy M35 5G (DayBreak Blue, 256 GB)',\n",
       " 'SAMSUNG Galaxy S23 5G (Lavender, 128 GB)',\n",
       " 'SAMSUNG Galaxy M14 4G (Sapphire Blue, 64 GB)',\n",
       " 'SAMSUNG Galaxy A55 5G (Awesome Iceblue, 256 GB)',\n",
       " 'SAMSUNG Galaxy A35 5G (Awesome Lilac, 256 GB)']"
      ]
     },
     "execution_count": 131,
     "metadata": {},
     "output_type": "execute_result"
    }
   ],
   "source": [
    "product_list = soup.find_all('div', class_ =\"KzDlHZ\")\n",
    "product_name = [product.text.strip() for product in product_list]\n",
    "product_name"
   ]
  },
  {
   "cell_type": "code",
   "execution_count": 132,
   "id": "a4e4583c-a21f-4511-a200-5744404a930e",
   "metadata": {},
   "outputs": [
    {
     "name": "stdout",
     "output_type": "stream",
     "text": [
      "Device Names: ['SAMSUNG Galaxy S23 5G', 'SAMSUNG Galaxy F05', 'SAMSUNG Galaxy S23 5G', 'SAMSUNG Galaxy A14 5G', 'SAMSUNG Galaxy S23 5G', 'SAMSUNG Galaxy S23 5G', 'SAMSUNG Galaxy S23 5G', 'SAMSUNG Galaxy S23 FE', 'SAMSUNG Galaxy S23 5G', 'SAMSUNG Galaxy M35 5G', 'SAMSUNG Galaxy M35 5G', 'SAMSUNG Galaxy M35 5G', 'SAMSUNG Galaxy A35 5G', 'SAMSUNG Galaxy M35 5G', 'SAMSUNG Metro 313', 'SAMSUNG Galaxy M35 5G', 'SAMSUNG Galaxy M35 5G', 'SAMSUNG M05', 'SAMSUNG Galaxy S24+ 5G', 'SAMSUNG Galaxy M35 5G', 'SAMSUNG Galaxy S23 5G', 'SAMSUNG Galaxy M14 4G', 'SAMSUNG Galaxy A55 5G', 'SAMSUNG Galaxy A35 5G']\n",
      "Colors: ['Green', 'Twilight Blue', 'Cream', 'Dark Red', 'Cream', 'Lavender', 'Green', 'Graphite', 'Phantom Black', 'Moonlight Blue', 'Thunder Grey', 'DayBreak Blue', 'Awesome Iceblue', 'Thunder Grey', None, 'DayBreak Blue', 'Moonlight Blue', 'Mint Green', 'Cobalt Violet', 'DayBreak Blue', 'Lavender', 'Sapphire Blue', 'Awesome Iceblue', 'Awesome Lilac']\n"
     ]
    }
   ],
   "source": [
    "import re\n",
    "\n",
    "product_list = soup.find_all('div', class_ =\"KzDlHZ\")\n",
    "product_name = [product.text.strip() for product in product_list]\n",
    "\n",
    "# Initialize empty lists to store Device Names and Colors\n",
    "device_names = []\n",
    "colors = []\n",
    "\n",
    "# Loop through the product list\n",
    "for product in product_name:\n",
    "    # Extract Device Name (everything before the first opening parenthesis)\n",
    "    name_match = re.match(r'(.*?)(?=\\s*\\()', product)\n",
    "    device_name = name_match.group(1).strip() if name_match else product.strip()\n",
    "    device_names.append(device_name)\n",
    "    \n",
    "    # Extract Color (text between the opening and closing parenthesis, excluding GB info)\n",
    "    color_match = re.search(r'\\((.*?),\\s*\\d+\\s*GB\\)', product)\n",
    "    # color = color_match.group(1).strip() if color_match else 'No Color Mentioned'\n",
    "    color = color_match.group(1).strip() if color_match else None\n",
    "    colors.append(color)\n",
    "\n",
    "# Output the extracted lists\n",
    "print(\"Device Names:\", device_names)\n",
    "print(\"Colors:\", colors)"
   ]
  },
  {
   "cell_type": "code",
   "execution_count": null,
   "id": "17a0f803-d143-42ae-89d4-19b1e3845503",
   "metadata": {},
   "outputs": [],
   "source": []
  },
  {
   "cell_type": "code",
   "execution_count": 133,
   "id": "9ee2b33d-519c-48c5-a2de-e80502d2e896",
   "metadata": {},
   "outputs": [
    {
     "name": "stdout",
     "output_type": "stream",
     "text": [
      "24 24\n"
     ]
    }
   ],
   "source": [
    "print(len(device_names),len(colors))"
   ]
  },
  {
   "cell_type": "code",
   "execution_count": 93,
   "id": "4cb10239-f617-4b09-af72-89d9ec3c5cf1",
   "metadata": {},
   "outputs": [
    {
     "name": "stdout",
     "output_type": "stream",
     "text": [
      "Device Names: ['SAMSUNG Galaxy S23 5G', 'SAMSUNG Galaxy F05', 'SAMSUNG Galaxy A14 5G', 'SAMSUNG Galaxy S23 5G', 'SAMSUNG Galaxy S23 5G', 'SAMSUNG Galaxy M35 5G', 'SAMSUNG Galaxy S23 5G', 'SAMSUNG Galaxy S23 5G', 'SAMSUNG Galaxy S23 5G', 'SAMSUNG Galaxy S23 FE', 'SAMSUNG Galaxy A35 5G', 'SAMSUNG Galaxy M35 5G', 'SAMSUNG Galaxy M35 5G', 'SAMSUNG Galaxy M35 5G', 'SAMSUNG Metro 313', 'SAMSUNG Galaxy S24+ 5G', 'SAMSUNG M05', 'SAMSUNG Galaxy M35 5G', 'SAMSUNG Galaxy M35 5G', 'SAMSUNG Galaxy M35 5G', 'SAMSUNG Galaxy M14 4G', 'SAMSUNG Galaxy A55 5G', 'SAMSUNG Galaxy M14 4G', 'SAMSUNG Galaxy A35 5G']\n",
      "Colours: ['Green', 'Twilight Blue', 'Dark Red', 'Cream', 'Cream', 'DayBreak Blue', 'Lavender', 'Green', 'Phantom Black', 'Graphite', 'Awesome Iceblue', 'Thunder Grey', 'Moonlight Blue', 'Thunder Grey', None, 'Cobalt Violet', 'Mint Green', 'DayBreak Blue', 'DayBreak Blue', 'Moonlight Blue', 'Sapphire Blue', 'Awesome Iceblue', 'Arctic Blue', 'Awesome Lilac']\n"
     ]
    }
   ],
   "source": [
    "# import re\n",
    "\n",
    "# product_list = soup.find_all('div', class_ =\"KzDlHZ\")\n",
    "# product_name = [product.text.strip() for product in product_list]\n",
    "\n",
    "# # Lists to store the extracted Device Names and Colours\n",
    "# device_names = []\n",
    "# colours = []\n",
    "\n",
    "# # Loop through each product in the list\n",
    "# for product in product_name:\n",
    "#     # Extract Device Name (before the first parenthesis)\n",
    "#     device_name = re.match(r'^[^(]+', product)\n",
    "#     if device_name:\n",
    "#         device_names.append(device_name.group(0).strip())  # Add Device Name\n",
    "    \n",
    "#     # Extract Colour (text within parentheses)\n",
    "#     colour_match = re.search(r'\\(([^,]+)', product)\n",
    "#     if colour_match:\n",
    "#         colours.append(colour_match.group(1).strip())  # Add Colour\n",
    "#     else:\n",
    "#         colours.append(None)  # If Colour is missing, append None\n",
    "\n",
    "# # Print the results\n",
    "# print(\"Device Names:\", device_names)\n",
    "# print(\"Colours:\", colours)"
   ]
  },
  {
   "cell_type": "code",
   "execution_count": 134,
   "id": "e89b8f90-9391-4fba-a106-96dcc804c8a6",
   "metadata": {},
   "outputs": [],
   "source": [
    "# print(len(device_names),len(colors))"
   ]
  },
  {
   "cell_type": "code",
   "execution_count": 135,
   "id": "7e68ff43-2615-4f06-a5eb-da158c54d7af",
   "metadata": {},
   "outputs": [
    {
     "data": {
      "text/plain": [
       "['8 GB RAM | 128 GB ROM',\n",
       " '15.49 cm (6.1 inch) Full HD+ Display',\n",
       " '50MP + 10MP + 12MP | 12MP Front Camera',\n",
       " '3900 mAh Lithium Ion Battery',\n",
       " 'Qualcomm Snapdragon 8 Gen 2 Processor',\n",
       " '1 Year Manufacturer Warranty for Device and 6 Months Manufacturer Warranty for In-Box Accessories',\n",
       " '4 GB RAM | 64 GB ROM | Expandable Upto 1 TB',\n",
       " '17.12 cm (6.74 inch) HD+ Display',\n",
       " '50MP + 2MP | 8MP Front Camera',\n",
       " '5000 mAh Battery',\n",
       " 'Helio G85 Processor',\n",
       " '1 Year Manufacturer Warranty for Device and 6 Months for In-Box Accessories',\n",
       " '8 GB RAM | 256 GB ROM',\n",
       " '15.49 cm (6.1 inch) Full HD+ Display',\n",
       " '50MP + 10MP + 12MP | 12MP Front Camera',\n",
       " '3900 mAh Lithium Ion Battery',\n",
       " 'Qualcomm Snapdragon 8 Gen 2 Processor',\n",
       " '1 Year Manufacturer Warranty for Device and 6 Months Manufacturer Warranty for In-Box Accessories',\n",
       " '6 GB RAM | 128 GB ROM | Expandable Upto 1 TB',\n",
       " '16.76 cm (6.6 inch) Full HD+ Display',\n",
       " '50MP + 2MP + 2MP | 13MP Front Camera',\n",
       " '5000 mAh Lithium Ion Battery',\n",
       " 'Exynos 1330 Processor',\n",
       " '1 Year Manufacturer Warranty for Device and 6 Months Manufacturer Warranty for In-Box Accessories',\n",
       " '8 GB RAM | 128 GB ROM',\n",
       " '15.49 cm (6.1 inch) Full HD+ Display',\n",
       " '50MP + 10MP + 12MP | 12MP Front Camera',\n",
       " '3900 mAh Lithium Ion Battery',\n",
       " 'Qualcomm Snapdragon 8 Gen 2 Processor',\n",
       " '1 Year Manufacturer Warranty for Device and 6 Months Manufacturer Warranty for In-Box Accessories',\n",
       " '8 GB RAM | 256 GB ROM',\n",
       " '15.49 cm (6.1 inch) Full HD+ Display',\n",
       " '50MP + 10MP + 12MP | 12MP Front Camera',\n",
       " '3900 mAh Lithium Ion Battery',\n",
       " 'Qualcomm Snapdragon 8 Gen 2 Processor',\n",
       " '1 Year Manufacturer Warranty for Device and 6 Months Manufacturer Warranty for In-Box Accessories',\n",
       " '8 GB RAM | 256 GB ROM',\n",
       " '15.49 cm (6.1 inch) Full HD+ Display',\n",
       " '50MP + 10MP + 12MP | 12MP Front Camera',\n",
       " '3900 mAh Lithium Ion Battery',\n",
       " 'Qualcomm Snapdragon 8 Gen 2 Processor',\n",
       " '1 Year Manufacturer Warranty for Device and 6 Months Manufacturer Warranty for In-Box Accessories',\n",
       " '8 GB RAM | 128 GB ROM',\n",
       " '16.26 cm (6.4 inch) Full HD+ Display',\n",
       " '50MP + 12MP | 10MP Front Camera',\n",
       " '4500 mAh Battery',\n",
       " 'Samsung Exynos 2200 Processor',\n",
       " '1 Year Manufacturer Warranty for Device and 6 Months for In-Box Accessories',\n",
       " '8 GB RAM | 128 GB ROM',\n",
       " '15.49 cm (6.1 inch) Full HD+ Display',\n",
       " '50MP + 10MP + 12MP | 12MP Front Camera',\n",
       " '3900 mAh Lithium Ion Battery',\n",
       " 'Qualcomm Snapdragon 8 Gen 2 Processor',\n",
       " '1 Year Manufacturer Warranty for Device and 6 Months Manufacturer Warranty for In-Box Accessories',\n",
       " '6 GB RAM | 128 GB ROM',\n",
       " '16.76 cm (6.6 inch) Display',\n",
       " '50MP Rear Camera',\n",
       " '6000 mAh Battery',\n",
       " '1 YEAR',\n",
       " '6 GB RAM | 128 GB ROM',\n",
       " '16.76 cm (6.6 inch) Display',\n",
       " '50MP Rear Camera',\n",
       " '6000 mAh Battery',\n",
       " '1 YEAR',\n",
       " '6 GB RAM | 128 GB ROM',\n",
       " '16.76 cm (6.6 inch) Display',\n",
       " '50MP Rear Camera',\n",
       " '6000 mAh Battery',\n",
       " '1 YEAR',\n",
       " '8 GB RAM | 128 GB ROM | Expandable Upto 1 TB',\n",
       " '16.76 cm (6.6 inch) Full HD+ Display',\n",
       " '50MP + 8MP + 5MP | 13MP Front Camera',\n",
       " '5000 mAh Battery',\n",
       " 'Samsung Exynos 1380 Processor',\n",
       " '1 Year Manufacturer Warranty for Device and 6 Months for In-Box Accessories',\n",
       " '8 GB RAM | 128 GB ROM',\n",
       " '16.76 cm (6.6 inch) Display',\n",
       " '50MP Rear Camera',\n",
       " '6000 mAh Battery',\n",
       " '1 YEAR',\n",
       " '512 MB RAM | 2.27 MB ROM',\n",
       " '5.08 cm (2 inch) VGA Display',\n",
       " '0.3MP Rear Camera',\n",
       " '1000 mAh Battery',\n",
       " '1 Year Manufacturer Warranty',\n",
       " '8 GB RAM | 128 GB ROM',\n",
       " '16.76 cm (6.6 inch) Display',\n",
       " '50MP Rear Camera',\n",
       " '6000 mAh Battery',\n",
       " '1 YEAR',\n",
       " '8 GB RAM | 128 GB ROM',\n",
       " '16.76 cm (6.6 inch) Display',\n",
       " '50MP Rear Camera',\n",
       " '6000 mAh Battery',\n",
       " '1 YEAR',\n",
       " '4 GB RAM | 64 GB ROM',\n",
       " '17.02 cm (6.7 inch) Display',\n",
       " '50MP Rear Camera',\n",
       " '5000 mAh Battery',\n",
       " '1 year manufacturer warranty for device and 6 months manufacturer warranty for in-box accessories including batteries from the date of purchase',\n",
       " '12 GB RAM | 256 GB ROM',\n",
       " '17.02 cm (6.7 inch) Quad HD+ Display',\n",
       " '50MP + 10MP + 12MP | 12MP Front Camera',\n",
       " '4900 mAh Battery',\n",
       " 'Exynos 2400 Processor',\n",
       " '1 Year Manufacturer Warranty for Device and 6 Months for In-Box Accessories',\n",
       " '8 GB RAM | 256 GB ROM',\n",
       " '16.76 cm (6.6 inch) Display',\n",
       " '50MP Rear Camera',\n",
       " '6000 mAh Battery',\n",
       " '1 YEAR',\n",
       " '8 GB RAM | 128 GB ROM',\n",
       " '15.49 cm (6.1 inch) Full HD+ Display',\n",
       " '50MP + 10MP + 12MP | 12MP Front Camera',\n",
       " '3900 mAh Lithium Ion Battery',\n",
       " 'Qualcomm Snapdragon 8 Gen 2 Processor',\n",
       " '1 Year Manufacturer Warranty for Device and 6 Months Manufacturer Warranty for In-Box Accessories',\n",
       " '4 GB RAM | 64 GB ROM',\n",
       " '16.76 cm (6.6 inch) Display',\n",
       " '50MP Rear Camera',\n",
       " '6000 mAh Battery',\n",
       " '1 year for handset and 6 month for accessories',\n",
       " '8 GB RAM | 256 GB ROM | Expandable Upto 1 TB',\n",
       " '16.76 cm (6.6 inch) Full HD+ Display',\n",
       " '50MP + 12MP + 5MP | 32MP Front Camera',\n",
       " '5000 mAh Battery',\n",
       " 'Samsung Exynos 1480 Processor',\n",
       " '1 Year Manufacturer Warranty for Device and 6 Months for In-Box Accessories',\n",
       " '8 GB RAM | 256 GB ROM | Expandable Upto 1 TB',\n",
       " '16.76 cm (6.6 inch) Full HD+ Display',\n",
       " '50MP + 8MP + 5MP | 13MP Front Camera',\n",
       " '5000 mAh Battery',\n",
       " 'Samsung Exynos 1380 Processor',\n",
       " '1 Year Manufacturer Warranty for Device and 6 Months for In-Box Accessories']"
      ]
     },
     "execution_count": 135,
     "metadata": {},
     "output_type": "execute_result"
    }
   ],
   "source": [
    "Features_list = soup.find_all('li',class_=\"J+igdf\")\n",
    "Features = [product.text.strip() for product in Features_list]\n",
    "Features"
   ]
  },
  {
   "cell_type": "code",
   "execution_count": 136,
   "id": "db24c124-39fb-478f-93db-b62f727f7a9e",
   "metadata": {},
   "outputs": [
    {
     "name": "stdout",
     "output_type": "stream",
     "text": [
      "RAM Sizes (GB): [8, 4, 8, 6, 8, 8, 8, 8, 8, 6, 6, 6, 8, 8, 0.5, 8, 8, 4, 12, 8, 8, 4, 8, 8]\n",
      "ROM Sizes (GB): [128, 64, 256, 128, 128, 256, 256, 128, 128, 128, 128, 128, 128, 128, 0.0022, 128, 128, 64, 256, 256, 128, 64, 256, 256]\n",
      "Display Sizes (inches): [6.1, 6.74, 6.1, 6.6, 6.1, 6.1, 6.1, 6.4, 6.1, 6.6, 6.6, 6.6, 6.6, 6.6, 2.0, 6.6, 6.6, 6.7, 6.7, 6.6, 6.1, 6.6, 6.6, 6.6]\n",
      "Battery Capacities (mAh): [3900, 5000, 3900, 5000, 3900, 3900, 3900, 4500, 3900, 6000, 6000, 6000, 5000, 6000, 1000, 6000, 6000, 5000, 4900, 6000, 3900, 6000, 5000, 5000]\n"
     ]
    }
   ],
   "source": [
    "import re\n",
    "\n",
    "# Sample input (replace this with your actual Features list)\n",
    "Features_list = soup.find_all('li',class_=\"J+igdf\")\n",
    "Features = [product.text.strip() for product in Features_list]\n",
    "Features\n",
    "\n",
    "# Initialize empty lists to store the extracted features\n",
    "RAM_Sizes = []\n",
    "ROM_Sizes = []\n",
    "Display_Sizes = []\n",
    "Battery_Capacities = []\n",
    "\n",
    "# Function to convert MB to GB\n",
    "def convert_mb_to_gb(mb_value):\n",
    "    return round(float(mb_value) / 1024, 4)  # Convert MB to GB with 4 decimal places\n",
    "\n",
    "# Loop through each feature in the list\n",
    "for feature in Features:\n",
    "    # Extract RAM size (in GB or MB)\n",
    "    ram_match_gb = re.search(r'(\\d+)\\s*GB RAM', feature)\n",
    "    ram_match_mb = re.search(r'([\\d.]+)\\s*MB RAM', feature)\n",
    "    if ram_match_gb:\n",
    "        RAM_Sizes.append(int(ram_match_gb.group(1)))  # Append GB directly\n",
    "    elif ram_match_mb:\n",
    "        RAM_Sizes.append(convert_mb_to_gb(ram_match_mb.group(1)))  # Convert MB to GB and append\n",
    "    \n",
    "    # Extract ROM size (in GB or MB)\n",
    "    rom_match_gb = re.search(r'(\\d+)\\s*GB ROM', feature)\n",
    "    rom_match_mb = re.search(r'([\\d.]+)\\s*MB ROM', feature)\n",
    "    if rom_match_gb:\n",
    "        ROM_Sizes.append(int(rom_match_gb.group(1)))  # Append GB directly\n",
    "    elif rom_match_mb:\n",
    "        ROM_Sizes.append(convert_mb_to_gb(rom_match_mb.group(1)))  # Convert MB to GB and append\n",
    "    \n",
    "    # Extract Display size in inches\n",
    "    display_match = re.search(r'\\(([\\d.]+)\\s*inch\\)', feature)\n",
    "    if display_match:\n",
    "        Display_Sizes.append(float(display_match.group(1)))  # Convert to float and append\n",
    "    \n",
    "    # Extract Battery capacity in mAh\n",
    "    battery_match = re.search(r'(\\d+)\\s*mAh', feature)\n",
    "    if battery_match:\n",
    "        Battery_Capacities.append(int(battery_match.group(1)))  # Convert to int and append\n",
    "\n",
    "# Print the extracted features\n",
    "print(\"RAM Sizes (GB):\", RAM_Sizes)\n",
    "print(\"ROM Sizes (GB):\", ROM_Sizes)\n",
    "print(\"Display Sizes (inches):\", Display_Sizes)\n",
    "print(\"Battery Capacities (mAh):\", Battery_Capacities)\n"
   ]
  },
  {
   "cell_type": "code",
   "execution_count": 137,
   "id": "efe1c87e-b264-48c5-978a-5f3265b5c8bd",
   "metadata": {},
   "outputs": [
    {
     "name": "stdout",
     "output_type": "stream",
     "text": [
      "24 24 24 24\n"
     ]
    }
   ],
   "source": [
    "print(len(RAM_Sizes),len(ROM_Sizes),len(Display_Sizes),len(Battery_Capacities))"
   ]
  },
  {
   "cell_type": "code",
   "execution_count": 138,
   "id": "fba14c8e-c913-4057-a1c4-f5805efba05c",
   "metadata": {},
   "outputs": [
    {
     "name": "stdout",
     "output_type": "stream",
     "text": [
      "['₹37,999', '₹6,499', '₹42,999', '₹10,999', '₹37,999', '₹42,999', '₹42,999', '₹30,999', '₹37,999', '₹18,499', '₹16,499', '₹15,675', '₹30,999', '₹20,688', '₹2,100', '₹20,178', '₹20,749', '₹7,450', '₹64,999', '₹26,990', '₹37,999', '₹8,438', '₹42,999', '₹33,999']\n"
     ]
    }
   ],
   "source": [
    "price_list = soup.find_all('div',class_ =\"Nx9bqj _4b5DiR\")\n",
    "product_price = [product.text.strip() for product in price_list]\n",
    "print(product_price)"
   ]
  },
  {
   "cell_type": "markdown",
   "id": "10a3ddf3-316a-44eb-b75e-1151090774d0",
   "metadata": {},
   "source": [
    "### `Price` extraction"
   ]
  },
  {
   "cell_type": "code",
   "execution_count": 139,
   "id": "5643ed6d-c0d1-489d-9f2c-2a655e6f5295",
   "metadata": {},
   "outputs": [
    {
     "name": "stdout",
     "output_type": "stream",
     "text": [
      "[37999, 6499, 42999, 10999, 37999, 42999, 42999, 30999, 37999, 18499, 16499, 15675, 30999, 20688, 2100, 20178, 20749, 7450, 64999, 26990, 37999, 8438, 42999, 33999]\n"
     ]
    }
   ],
   "source": [
    "import re\n",
    "\n",
    "# Extracting all the product prices as text\n",
    "price_list = soup.find_all('div', class_=\"Nx9bqj _4b5DiR\")\n",
    "\n",
    "# Extract numerical prices, removing ₹ and commas using regular expression\n",
    "product_price = [product.text.strip() for product in price_list]\n",
    "\n",
    "# Initialize a list to store the cleaned prices\n",
    "prices = []\n",
    "\n",
    "# Loop through the extracted prices\n",
    "for price in product_price:\n",
    "    # Remove ₹ and commas, and keep only numerical values\n",
    "    price_clean = re.sub(r'[^\\d]', '', price)  # Remove anything that is not a digit\n",
    "    if price_clean:\n",
    "        prices.append(int(price_clean))  # Convert to integer and append\n",
    "    else:\n",
    "        prices.append(None)  # If no valid price is found, append None\n",
    "\n",
    "# Print the result\n",
    "print(prices)\n"
   ]
  },
  {
   "cell_type": "code",
   "execution_count": 140,
   "id": "377262db-e2cd-4b93-9818-8ab41f4bc648",
   "metadata": {},
   "outputs": [
    {
     "data": {
      "text/plain": [
       "24"
      ]
     },
     "execution_count": 140,
     "metadata": {},
     "output_type": "execute_result"
    }
   ],
   "source": [
    "len(prices)"
   ]
  },
  {
   "cell_type": "code",
   "execution_count": 141,
   "id": "74e6d5c7-366d-40e3-b65b-c98768454145",
   "metadata": {},
   "outputs": [
    {
     "name": "stdout",
     "output_type": "stream",
     "text": [
      "               Device Name  Price (Rs.)            Color  RAM Size (GB)  \\\n",
      "0    SAMSUNG Galaxy S23 5G        37999            Green            8.0   \n",
      "1       SAMSUNG Galaxy F05         6499    Twilight Blue            4.0   \n",
      "2    SAMSUNG Galaxy S23 5G        42999            Cream            8.0   \n",
      "3    SAMSUNG Galaxy A14 5G        10999         Dark Red            6.0   \n",
      "4    SAMSUNG Galaxy S23 5G        37999            Cream            8.0   \n",
      "5    SAMSUNG Galaxy S23 5G        42999         Lavender            8.0   \n",
      "6    SAMSUNG Galaxy S23 5G        42999            Green            8.0   \n",
      "7    SAMSUNG Galaxy S23 FE        30999         Graphite            8.0   \n",
      "8    SAMSUNG Galaxy S23 5G        37999    Phantom Black            8.0   \n",
      "9    SAMSUNG Galaxy M35 5G        18499   Moonlight Blue            6.0   \n",
      "10   SAMSUNG Galaxy M35 5G        16499     Thunder Grey            6.0   \n",
      "11   SAMSUNG Galaxy M35 5G        15675    DayBreak Blue            6.0   \n",
      "12   SAMSUNG Galaxy A35 5G        30999  Awesome Iceblue            8.0   \n",
      "13   SAMSUNG Galaxy M35 5G        20688     Thunder Grey            8.0   \n",
      "14       SAMSUNG Metro 313         2100             None            0.5   \n",
      "15   SAMSUNG Galaxy M35 5G        20178    DayBreak Blue            8.0   \n",
      "16   SAMSUNG Galaxy M35 5G        20749   Moonlight Blue            8.0   \n",
      "17             SAMSUNG M05         7450       Mint Green            4.0   \n",
      "18  SAMSUNG Galaxy S24+ 5G        64999    Cobalt Violet           12.0   \n",
      "19   SAMSUNG Galaxy M35 5G        26990    DayBreak Blue            8.0   \n",
      "20   SAMSUNG Galaxy S23 5G        37999         Lavender            8.0   \n",
      "21   SAMSUNG Galaxy M14 4G         8438    Sapphire Blue            4.0   \n",
      "22   SAMSUNG Galaxy A55 5G        42999  Awesome Iceblue            8.0   \n",
      "23   SAMSUNG Galaxy A35 5G        33999    Awesome Lilac            8.0   \n",
      "\n",
      "    ROM Size (GB)  Display Size (inches)  Battery Capacity (mAh)  \n",
      "0        128.0000                   6.10                    3900  \n",
      "1         64.0000                   6.74                    5000  \n",
      "2        256.0000                   6.10                    3900  \n",
      "3        128.0000                   6.60                    5000  \n",
      "4        128.0000                   6.10                    3900  \n",
      "5        256.0000                   6.10                    3900  \n",
      "6        256.0000                   6.10                    3900  \n",
      "7        128.0000                   6.40                    4500  \n",
      "8        128.0000                   6.10                    3900  \n",
      "9        128.0000                   6.60                    6000  \n",
      "10       128.0000                   6.60                    6000  \n",
      "11       128.0000                   6.60                    6000  \n",
      "12       128.0000                   6.60                    5000  \n",
      "13       128.0000                   6.60                    6000  \n",
      "14         0.0022                   2.00                    1000  \n",
      "15       128.0000                   6.60                    6000  \n",
      "16       128.0000                   6.60                    6000  \n",
      "17        64.0000                   6.70                    5000  \n",
      "18       256.0000                   6.70                    4900  \n",
      "19       256.0000                   6.60                    6000  \n",
      "20       128.0000                   6.10                    3900  \n",
      "21        64.0000                   6.60                    6000  \n",
      "22       256.0000                   6.60                    5000  \n",
      "23       256.0000                   6.60                    5000  \n"
     ]
    }
   ],
   "source": [
    "# Create the DataFrame\n",
    "df = pd.DataFrame({\n",
    "    'Device Name': device_names,\n",
    "    'Price (Rs.)': prices,\n",
    "    'Color': colors,\n",
    "    'RAM Size (GB)': RAM_Sizes,\n",
    "    'ROM Size (GB)': ROM_Sizes,\n",
    "    'Display Size (inches)': Display_Sizes,\n",
    "    'Battery Capacity (mAh)': Battery_Capacities\n",
    "})\n",
    "\n",
    "# Display the DataFrame\n",
    "print(df)"
   ]
  },
  {
   "cell_type": "code",
   "execution_count": 144,
   "id": "e052de41-382d-4536-aa69-e2e2ec73789a",
   "metadata": {},
   "outputs": [],
   "source": [
    "df.to_csv('Samsung Mobiles Data.csv',index=False)"
   ]
  },
  {
   "cell_type": "code",
   "execution_count": 151,
   "id": "24f30bc3-d6a0-441f-b3cf-ba3cdf1f0629",
   "metadata": {},
   "outputs": [
    {
     "name": "stdout",
     "output_type": "stream",
     "text": [
      "    Device Name  Price (Rs.)  Color  RAM Size (GB)  ROM Size (GB)  \\\n",
      "0         False        False  False          False          False   \n",
      "1         False        False  False          False          False   \n",
      "2         False        False  False          False          False   \n",
      "3         False        False  False          False          False   \n",
      "4         False        False  False          False          False   \n",
      "5         False        False  False          False          False   \n",
      "6         False        False  False          False          False   \n",
      "7         False        False  False          False          False   \n",
      "8         False        False  False          False          False   \n",
      "9         False        False  False          False          False   \n",
      "10        False        False  False          False          False   \n",
      "11        False        False  False          False          False   \n",
      "12        False        False  False          False          False   \n",
      "13        False        False  False          False          False   \n",
      "14        False        False   True          False          False   \n",
      "15        False        False  False          False          False   \n",
      "16        False        False  False          False          False   \n",
      "17        False        False  False          False          False   \n",
      "18        False        False  False          False          False   \n",
      "19        False        False  False          False          False   \n",
      "20        False        False  False          False          False   \n",
      "21        False        False  False          False          False   \n",
      "22        False        False  False          False          False   \n",
      "23        False        False  False          False          False   \n",
      "\n",
      "    Display Size (inches)  Battery Capacity (mAh)  \n",
      "0                   False                   False  \n",
      "1                   False                   False  \n",
      "2                   False                   False  \n",
      "3                   False                   False  \n",
      "4                   False                   False  \n",
      "5                   False                   False  \n",
      "6                   False                   False  \n",
      "7                   False                   False  \n",
      "8                   False                   False  \n",
      "9                   False                   False  \n",
      "10                  False                   False  \n",
      "11                  False                   False  \n",
      "12                  False                   False  \n",
      "13                  False                   False  \n",
      "14                  False                   False  \n",
      "15                  False                   False  \n",
      "16                  False                   False  \n",
      "17                  False                   False  \n",
      "18                  False                   False  \n",
      "19                  False                   False  \n",
      "20                  False                   False  \n",
      "21                  False                   False  \n",
      "22                  False                   False  \n",
      "23                  False                   False  \n"
     ]
    }
   ],
   "source": [
    "print(df.isnull())\n",
    "\n",
    "# True is the missing value"
   ]
  },
  {
   "cell_type": "code",
   "execution_count": 155,
   "id": "073163c7-8cd8-410d-a471-c63de6063881",
   "metadata": {},
   "outputs": [
    {
     "name": "stdout",
     "output_type": "stream",
     "text": [
      "Device Name               0\n",
      "Price (Rs.)               0\n",
      "Color                     1\n",
      "RAM Size (GB)             0\n",
      "ROM Size (GB)             0\n",
      "Display Size (inches)     0\n",
      "Battery Capacity (mAh)    0\n",
      "dtype: int64\n"
     ]
    }
   ],
   "source": [
    "print(df.isnull().sum())\n",
    "\n",
    "# To see the column name with the count of missing values."
   ]
  },
  {
   "cell_type": "code",
   "execution_count": 156,
   "id": "7922a8a7-e283-48b5-a737-c75733860caf",
   "metadata": {},
   "outputs": [
    {
     "name": "stdout",
     "output_type": "stream",
     "text": [
      "1\n"
     ]
    }
   ],
   "source": [
    "print(df.isnull().sum().sum())\n",
    "\n",
    "# count of total missing values"
   ]
  },
  {
   "cell_type": "code",
   "execution_count": 157,
   "id": "2d0f8433-82a8-40bd-96d0-4c986b5fa54e",
   "metadata": {},
   "outputs": [
    {
     "data": {
      "text/plain": [
       "(24, 7)"
      ]
     },
     "execution_count": 157,
     "metadata": {},
     "output_type": "execute_result"
    }
   ],
   "source": [
    "df.shape"
   ]
  },
  {
   "cell_type": "code",
   "execution_count": null,
   "id": "d573916e-9fbd-41a3-bb65-2b00a2108849",
   "metadata": {},
   "outputs": [],
   "source": []
  },
  {
   "cell_type": "code",
   "execution_count": null,
   "id": "5be9187c-356b-4356-b20f-9451fa11a04e",
   "metadata": {},
   "outputs": [],
   "source": []
  }
 ],
 "metadata": {
  "kernelspec": {
   "display_name": "Python 3 (ipykernel)",
   "language": "python",
   "name": "python3"
  },
  "language_info": {
   "codemirror_mode": {
    "name": "ipython",
    "version": 3
   },
   "file_extension": ".py",
   "mimetype": "text/x-python",
   "name": "python",
   "nbconvert_exporter": "python",
   "pygments_lexer": "ipython3",
   "version": "3.12.4"
  }
 },
 "nbformat": 4,
 "nbformat_minor": 5
}
